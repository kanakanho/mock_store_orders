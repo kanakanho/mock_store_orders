{
 "cells": [
  {
   "cell_type": "code",
   "execution_count": 27,
   "metadata": {},
   "outputs": [],
   "source": [
    "import sqlite3\n",
    "import requests\n",
    "import pandas as pd\n",
    "import matplotlib.pyplot as plt\n",
    "import japanize_matplotlib"
   ]
  },
  {
   "cell_type": "code",
   "execution_count": 28,
   "metadata": {},
   "outputs": [],
   "source": [
    "# データベースに接続\n",
    "conn = sqlite3.connect('orders.db')\n",
    "cursor = conn.cursor()"
   ]
  },
  {
   "cell_type": "code",
   "execution_count": null,
   "metadata": {},
   "outputs": [],
   "source": [
    "cursor.execute('CREATE TABLE order_collect (id INTEGER PRIMARY KEY AUTOINCREMENT, chicken INTEGER,chiken_option INTEGER,tako INTEGER,tako_option INTEGER, potato INTEGER ,potato_option INTEGER, cora INTEGER, orenge INTEGER, grape INTEGER, water INTEGER,soda INTEGER, green_tea INTEGER, Oolong_Tea INTEGER')"
   ]
  },
  {
   "cell_type": "code",
   "execution_count": 29,
   "metadata": {},
   "outputs": [
    {
     "name": "stdout",
     "output_type": "stream",
     "text": [
      "['ポテト', '唐揚げ', '揚げたこ焼き', 'ソーダ', 'コーラ', 'ファンタグレープ', '緑茶', '麦茶', 'ファンタオレンジ', '水']\n"
     ]
    }
   ],
   "source": [
    "# itemの名前を取得\n",
    "cursor.execute(\"SELECT item FROM orders\")\n",
    "item_list = cursor.fetchall()\n",
    "item_list = [row[0] for row in item_list]\n",
    "\n",
    "print(item_list)"
   ]
  },
  {
   "cell_type": "code",
   "execution_count": 37,
   "metadata": {},
   "outputs": [
    {
     "name": "stdout",
     "output_type": "stream",
     "text": [
      "[('ポテト', 1696644443033), ('ポテト', 1696644862088), ('ポテト', 1696645447312), ('ポテト', 1696645478034), ('ポテト', 1696645609093), ('ポテト', 1696646247002), ('ポテト', 1696646534634), ('ポテト', 1696646791764), ('ポテト', 1696647410034), ('ポテト', 1696647562912), ('ポテト', 1696647596467), ('ポテト', 1696647703902), ('ポテト', 1696647703902), ('ポテト', 1696647998383), ('ポテト', 1696648158103), ('ポテト', 1696648058648), ('ポテト', 1696648114524), ('ポテト', 1696648731360), ('ポテト', 1696648800732), ('ポテト', 1696649021742), ('ポテト', 1696649021742), ('ポテト', 1696649079191), ('ポテト', 1696649925892), ('ポテト', 1696649230714), ('ポテト', 1696649230714), ('ポテト', 1696649586624), ('ポテト', 1696649827283), ('ポテト', 1696650898021), ('ポテト', 1696651242626), ('ポテト', 1696651343650), ('ポテト', 1696651400040), ('ポテト', 1696651450682), ('ポテト', 1696651603550), ('ポテト', 1696651643960), ('ポテト', 1696651882758), ('ポテト', 1696651832226), ('ポテト', 1696652029070), ('ポテト', 1696652067959), ('ポテト', 1696653453932), ('ポテト', 1696653802263), ('ポテト', 1696653979330), ('ポテト', 1696654011351), ('ポテト', 1696654060491), ('ポテト', 1696654098123), ('ポテト', 1696654570279), ('ポテト', 1696654584830), ('ポテト', 1696655024058), ('ポテト', 1696655037667), ('唐揚げ', 1696642544198), ('唐揚げ', 1696642688659), ('唐揚げ', 1696643494733), ('唐揚げ', 1696643749168), ('唐揚げ', 1696644045868), ('唐揚げ', 1696645427470), ('唐揚げ', 1696645662663), ('唐揚げ', 1696645688103), ('唐揚げ', 1696645784043), ('唐揚げ', 1696646247002), ('唐揚げ', 1696646268864), ('唐揚げ', 1696646534634), ('唐揚げ', 1696646791764), ('唐揚げ', 1696646791764), ('唐揚げ', 1696647060232), ('唐揚げ', 1696647186965), ('唐揚げ', 1696647386874), ('唐揚げ', 1696647499024), ('唐揚げ', 1696647562912), ('唐揚げ', 1696647626594), ('唐揚げ', 1696647694285), ('唐揚げ', 1696647867467), ('唐揚げ', 1696648158103), ('唐揚げ', 1696648126714), ('唐揚げ', 1696648126714), ('唐揚げ', 1696648248291), ('唐揚げ', 1696648351404), ('唐揚げ', 1696648393063), ('唐揚げ', 1696648478184), ('唐揚げ', 1696648731360), ('唐揚げ', 1696648800732), ('唐揚げ', 1696648854231), ('唐揚げ', 1696648918193), ('唐揚げ', 1696648944656), ('唐揚げ', 1696648969303), ('唐揚げ', 1696649045083), ('唐揚げ', 1696649343723), ('唐揚げ', 1696649498361), ('唐揚げ', 1696649638733), ('唐揚げ', 1696649661564), ('唐揚げ', 1696649700817), ('唐揚げ', 1696649711231), ('唐揚げ', 1696649935343), ('唐揚げ', 1696650041167), ('唐揚げ', 1696650118202), ('唐揚げ', 1696650271033), ('唐揚げ', 1696650337086), ('唐揚げ', 1696650508344), ('唐揚げ', 1696650667214), ('唐揚げ', 1696650850362), ('唐揚げ', 1696650898021), ('唐揚げ', 1696650918348), ('唐揚げ', 1696650999281), ('唐揚げ', 1696650999281), ('唐揚げ', 1696651033300), ('唐揚げ', 1696651062566), ('唐揚げ', 1696651083512), ('唐揚げ', 1696651107901), ('唐揚げ', 1696651298520), ('唐揚げ', 1696651343650), ('唐揚げ', 1696651400040), ('唐揚げ', 1696651514203), ('唐揚げ', 1696651560398), ('唐揚げ', 1696651931078), ('唐揚げ', 1696652193498), ('唐揚げ', 1696652240675), ('唐揚げ', 1696652289606), ('唐揚げ', 1696652363355), ('唐揚げ', 1696652604511), ('唐揚げ', 1696653009980), ('唐揚げ', 1696653179933), ('唐揚げ', 1696653765145), ('唐揚げ', 1696653867233), ('唐揚げ', 1696653949792), ('唐揚げ', 1696654029942), ('唐揚げ', 1696654162733), ('唐揚げ', 1696654462299), ('唐揚げ', 1696654484149), ('唐揚げ', 1696654557111), ('唐揚げ', 1696654619726), ('唐揚げ', 1696654639354), ('唐揚げ', 1696654659959), ('唐揚げ', 1696654682359), ('唐揚げ', 1696654723719), ('唐揚げ', 1696654813367), ('唐揚げ', 1696654981477), ('唐揚げ', 1696655240762), ('唐揚げ', 1696655272102), ('唐揚げ', 1696655363526), ('唐揚げ', 1696655535818), ('唐揚げ', 1696655535818), ('揚げたこ焼き', 1696642813421), ('揚げたこ焼き', 1696643128253), ('揚げたこ焼き', 1696644575673), ('揚げたこ焼き', 1696644738013), ('揚げたこ焼き', 1696644906383), ('揚げたこ焼き', 1696645044293), ('揚げたこ焼き', 1696645784043), ('揚げたこ焼き', 1696645796068), ('揚げたこ焼き', 1696645954564), ('揚げたこ焼き', 1696645990903), ('揚げたこ焼き', 1696646247002), ('揚げたこ焼き', 1696646208862), ('揚げたこ焼き', 1696647329956), ('揚げたこ焼き', 1696647626594), ('揚げたこ焼き', 1696647626594), ('揚げたこ焼き', 1696647694285), ('揚げたこ焼き', 1696647703902), ('揚げたこ焼き', 1696647774914), ('揚げたこ焼き', 1696648058648), ('揚げたこ焼き', 1696648884494), ('揚げたこ焼き', 1696649079191), ('揚げたこ焼き', 1696649125244), ('揚げたこ焼き', 1696649153403), ('揚げたこ焼き', 1696649925892), ('揚げたこ焼き', 1696649925892), ('揚げたこ焼き', 1696649271931), ('揚げたこ焼き', 1696650337086), ('揚げたこ焼き', 1696650999281), ('揚げたこ焼き', 1696651083512), ('揚げたこ焼き', 1696651242626), ('揚げたこ焼き', 1696651298520), ('揚げたこ焼き', 1696651400040), ('揚げたこ焼き', 1696651546908), ('揚げたこ焼き', 1696651514203), ('揚げたこ焼き', 1696651583491), ('揚げたこ焼き', 1696651603550), ('揚げたこ焼き', 1696651643960), ('揚げたこ焼き', 1696651782670), ('揚げたこ焼き', 1696651882758), ('揚げたこ焼き', 1696651960515), ('揚げたこ焼き', 1696652010681), ('揚げたこ焼き', 1696652154704), ('揚げたこ焼き', 1696652574282), ('揚げたこ焼き', 1696653083994), ('揚げたこ焼き', 1696653291083), ('揚げたこ焼き', 1696653765145), ('揚げたこ焼き', 1696653802263), ('揚げたこ焼き', 1696653867233), ('揚げたこ焼き', 1696653979330), ('揚げたこ焼き', 1696654098123), ('揚げたこ焼き', 1696654162733), ('揚げたこ焼き', 1696654432879), ('揚げたこ焼き', 1696654532532), ('揚げたこ焼き', 1696654619726), ('揚げたこ焼き', 1696654659959), ('揚げたこ焼き', 1696654813367), ('ソーダ', 1696643556631), ('ソーダ', 1696644007266), ('ソーダ', 1696644906383), ('ソーダ', 1696645719058), ('ソーダ', 1696646247002), ('ソーダ', 1696647060232), ('ソーダ', 1696647434812), ('ソーダ', 1696647499024), ('ソーダ', 1696647596467), ('ソーダ', 1696648371943), ('ソーダ', 1696649925892), ('ソーダ', 1696649271931), ('ソーダ', 1696649530868), ('ソーダ', 1696649602515), ('ソーダ', 1696650693114), ('ソーダ', 1696652067959), ('ソーダ', 1696652440487), ('ソーダ', 1696653083994), ('ソーダ', 1696653119622), ('ソーダ', 1696653137183), ('ソーダ', 1696653196198), ('ソーダ', 1696654060491), ('ソーダ', 1696654098123), ('ソーダ', 1696654184390), ('ソーダ', 1696654532532), ('ソーダ', 1696654659959), ('ソーダ', 1696655052319), ('ソーダ', 1696655168594), ('ソーダ', 1696655343109), ('コーラ', 1696644906383), ('コーラ', 1696647694285), ('コーラ', 1696648854231), ('コーラ', 1696655209172), ('ファンタグレープ', 1696645609093), ('ファンタグレープ', 1696646780474), ('ファンタグレープ', 1696649203964), ('ファンタグレープ', 1696651298520), ('ファンタグレープ', 1696651583491), ('ファンタグレープ', 1696653119622), ('ファンタグレープ', 1696655595739), ('緑茶', 1696647626594), ('緑茶', 1696647935624), ('緑茶', 1696649079191), ('緑茶', 1696649925892), ('緑茶', 1696649827283), ('緑茶', 1696650898021), ('緑茶', 1696651450682), ('緑茶', 1696653228312), ('麦茶', 1696650850362), ('麦茶', 1696651450682), ('麦茶', 1696652080152), ('麦茶', 1696652095600), ('麦茶', 1696653196198), ('麦茶', 1696654297658), ('ファンタオレンジ', 1696653119622)]\n"
     ]
    }
   ],
   "source": [
    "orders = []\n",
    "# データベースからitem毎にデータを取得\n",
    "for item in item_list:\n",
    "    cursor.execute(\"SELECT item,time FROM all_order WHERE item = ?\", (item,))\n",
    "    order = cursor.fetchall()\n",
    "    orders.extend(order)\n",
    "\n",
    "print(orders)"
   ]
  },
  {
   "cell_type": "code",
   "execution_count": 43,
   "metadata": {},
   "outputs": [],
   "source": [
    "orders = []\n",
    "# データベースからitem毎にデータを取得\n",
    "cursor.execute(\"SELECT item,time FROM all_order\")\n",
    "order = cursor.fetchall()\n",
    "df = pd.DataFrame(order, columns=['item', 'time'])"
   ]
  },
  {
   "cell_type": "code",
   "execution_count": 40,
   "metadata": {},
   "outputs": [],
   "source": [
    "df_orders = pd.DataFrame(orders, columns=['item', 'time'])"
   ]
  },
  {
   "cell_type": "code",
   "execution_count": 44,
   "metadata": {},
   "outputs": [
    {
     "name": "stdout",
     "output_type": "stream",
     "text": [
      "         item           time\n",
      "0         唐揚げ  1696642544198\n",
      "1         唐揚げ  1696642688659\n",
      "2      揚げたこ焼き  1696642813421\n",
      "3      揚げたこ焼き  1696643128253\n",
      "4         唐揚げ  1696643494733\n",
      "..        ...            ...\n",
      "245       ソーダ  1696655343109\n",
      "246       唐揚げ  1696655363526\n",
      "247       唐揚げ  1696655535818\n",
      "248       唐揚げ  1696655535818\n",
      "249  ファンタグレープ  1696655595739\n",
      "\n",
      "[250 rows x 2 columns]\n"
     ]
    }
   ],
   "source": [
    "print(df)"
   ]
  },
  {
   "cell_type": "code",
   "execution_count": 42,
   "metadata": {},
   "outputs": [
    {
     "name": "stdout",
     "output_type": "stream",
     "text": [
      "Unexpected exception formatting exception. Falling back to standard exception\n"
     ]
    },
    {
     "name": "stderr",
     "output_type": "stream",
     "text": [
      "Traceback (most recent call last):\n",
      "  File \"/Users/k23060kk/Desktop/mock_store_order_data/.venv/lib/python3.10/site-packages/IPython/core/interactiveshell.py\", line 3526, in run_code\n",
      "  File \"/var/folders/qx/g75h6sns4slc8l4sb8lsy3l00000gn/T/ipykernel_87492/634269421.py\", line 2, in <module>\n",
      "    plt.figure(figsize=(10, 5))\n",
      "  File \"/Users/k23060kk/Desktop/mock_store_order_data/.venv/lib/python3.10/site-packages/matplotlib/pyplot.py\", line 934, in figure\n",
      "    manager = new_figure_manager(\n",
      "  File \"/Users/k23060kk/Desktop/mock_store_order_data/.venv/lib/python3.10/site-packages/matplotlib/pyplot.py\", line 464, in new_figure_manager\n",
      "    _warn_if_gui_out_of_main_thread()\n",
      "  File \"/Users/k23060kk/Desktop/mock_store_order_data/.venv/lib/python3.10/site-packages/matplotlib/pyplot.py\", line 441, in _warn_if_gui_out_of_main_thread\n",
      "    canvas_class = cast(type[FigureCanvasBase], _get_backend_mod().FigureCanvas)\n",
      "  File \"/Users/k23060kk/Desktop/mock_store_order_data/.venv/lib/python3.10/site-packages/matplotlib/pyplot.py\", line 280, in _get_backend_mod\n",
      "    switch_backend(rcParams._get(\"backend\"))  # type: ignore[attr-defined]\n",
      "  File \"/Users/k23060kk/Desktop/mock_store_order_data/.venv/lib/python3.10/site-packages/matplotlib/pyplot.py\", line 342, in switch_backend\n",
      "    module = importlib.import_module(cbook._backend_module_name(newbackend))\n",
      "  File \"/Users/k23060kk/.pyenv/versions/3.10.12/lib/python3.10/importlib/__init__.py\", line 126, in import_module\n",
      "    return _bootstrap._gcd_import(name[level:], package, level)\n",
      "  File \"<frozen importlib._bootstrap>\", line 1050, in _gcd_import\n",
      "  File \"<frozen importlib._bootstrap>\", line 1027, in _find_and_load\n",
      "  File \"<frozen importlib._bootstrap>\", line 992, in _find_and_load_unlocked\n",
      "  File \"<frozen importlib._bootstrap>\", line 241, in _call_with_frames_removed\n",
      "  File \"<frozen importlib._bootstrap>\", line 1050, in _gcd_import\n",
      "  File \"<frozen importlib._bootstrap>\", line 1027, in _find_and_load\n",
      "  File \"<frozen importlib._bootstrap>\", line 1004, in _find_and_load_unlocked\n",
      "ModuleNotFoundError: No module named 'matplotlib_inline'\n",
      "\n",
      "During handling of the above exception, another exception occurred:\n",
      "\n",
      "Traceback (most recent call last):\n",
      "  File \"/Users/k23060kk/Desktop/mock_store_order_data/.venv/lib/python3.10/site-packages/pygments/styles/__init__.py\", line 90, in get_style_by_name\n",
      "ModuleNotFoundError: No module named 'pygments.styles.default'\n",
      "\n",
      "During handling of the above exception, another exception occurred:\n",
      "\n",
      "Traceback (most recent call last):\n",
      "  File \"/Users/k23060kk/Desktop/mock_store_order_data/.venv/lib/python3.10/site-packages/IPython/core/interactiveshell.py\", line 2120, in showtraceback\n",
      "  File \"/Users/k23060kk/Desktop/mock_store_order_data/.venv/lib/python3.10/site-packages/IPython/core/ultratb.py\", line 1435, in structured_traceback\n",
      "  File \"/Users/k23060kk/Desktop/mock_store_order_data/.venv/lib/python3.10/site-packages/IPython/core/ultratb.py\", line 1326, in structured_traceback\n",
      "  File \"/Users/k23060kk/Desktop/mock_store_order_data/.venv/lib/python3.10/site-packages/IPython/core/ultratb.py\", line 1173, in structured_traceback\n",
      "  File \"/Users/k23060kk/Desktop/mock_store_order_data/.venv/lib/python3.10/site-packages/IPython/core/ultratb.py\", line 1063, in format_exception_as_a_whole\n",
      "  File \"/Users/k23060kk/Desktop/mock_store_order_data/.venv/lib/python3.10/site-packages/IPython/core/ultratb.py\", line 1114, in get_records\n",
      "  File \"/Users/k23060kk/Desktop/mock_store_order_data/.venv/lib/python3.10/site-packages/pygments/styles/__init__.py\", line 92, in get_style_by_name\n",
      "pygments.util.ClassNotFound: Could not find style module 'default', though it should be builtin.\n"
     ]
    }
   ],
   "source": [
    "# 描画\n",
    "plt.figure(figsize=(10, 5))\n",
    "\n",
    "# # グラフのタイトル\n",
    "# plt.title('注文された時間帯')\n",
    "\n",
    "# df_orders\n",
    "plt.plot(df_orders['time'], df_orders['item'])\n",
    "\n",
    "# # 凡例を表示\n",
    "# plt.legend()\n",
    "\n",
    "# # x軸のラベル\n",
    "# plt.xlabel('時間')\n",
    "\n",
    "# # y軸のラベル\n",
    "# plt.ylabel('メニュー')\n",
    "\n",
    "# # グラフの表示\n",
    "plt.show()\n"
   ]
  },
  {
   "cell_type": "code",
   "execution_count": 2,
   "metadata": {},
   "outputs": [
    {
     "name": "stdout",
     "output_type": "stream",
     "text": [
      "ポテト 0 None\n",
      "faild to insert\n",
      "faild to insert\n",
      "faild to insert\n",
      "faild to insert\n",
      "faild to insert\n",
      "faild to insert\n",
      "faild to insert\n",
      "faild to insert\n",
      "faild to insert\n",
      "faild to insert\n",
      "faild to insert\n",
      "唐揚げ 1 None\n",
      "唐揚げ 2 None\n",
      "揚げたこ焼き 1 None\n",
      "ture\n",
      "揚げたこ焼き 1 ['ソース', 'マヨネーズ']\n",
      "ture\n",
      "唐揚げ 1 ['チーズ']\n"
     ]
    },
    {
     "ename": "KeyboardInterrupt",
     "evalue": "Interrupted by user",
     "output_type": "error",
     "traceback": [
      "\u001b[0;31m---------------------------------------------------------------------------\u001b[0m",
      "\u001b[0;31mKeyboardInterrupt\u001b[0m                         Traceback (most recent call last)",
      "\u001b[1;32m/Users/k23060kk/Desktop/mock_store_order_data/mian.ipynb セル 10\u001b[0m line \u001b[0;36m2\n\u001b[1;32m     <a href='vscode-notebook-cell:/Users/k23060kk/Desktop/mock_store_order_data/mian.ipynb#X12sZmlsZQ%3D%3D?line=21'>22</a>\u001b[0m                 \u001b[39mprint\u001b[39m(\u001b[39m\"\u001b[39m\u001b[39mture\u001b[39m\u001b[39m\"\u001b[39m)\n\u001b[1;32m     <a href='vscode-notebook-cell:/Users/k23060kk/Desktop/mock_store_order_data/mian.ipynb#X12sZmlsZQ%3D%3D?line=22'>23</a>\u001b[0m             \u001b[39mprint\u001b[39m(item, qty, options)\n\u001b[0;32m---> <a href='vscode-notebook-cell:/Users/k23060kk/Desktop/mock_store_order_data/mian.ipynb#X12sZmlsZQ%3D%3D?line=23'>24</a>\u001b[0m             \u001b[39minput\u001b[39;49m()\n\u001b[1;32m     <a href='vscode-notebook-cell:/Users/k23060kk/Desktop/mock_store_order_data/mian.ipynb#X12sZmlsZQ%3D%3D?line=24'>25</a>\u001b[0m \u001b[39mexcept\u001b[39;00m \u001b[39mException\u001b[39;00m \u001b[39mas\u001b[39;00m e:\n\u001b[1;32m     <a href='vscode-notebook-cell:/Users/k23060kk/Desktop/mock_store_order_data/mian.ipynb#X12sZmlsZQ%3D%3D?line=25'>26</a>\u001b[0m     \u001b[39mprint\u001b[39m(\u001b[39m\"\u001b[39m\u001b[39mfaild to insert\u001b[39m\u001b[39m\"\u001b[39m)\n",
      "File \u001b[0;32m~/Desktop/mock_store_order_data/.venv/lib/python3.10/site-packages/ipykernel/kernelbase.py:1202\u001b[0m, in \u001b[0;36mKernel.raw_input\u001b[0;34m(self, prompt)\u001b[0m\n\u001b[1;32m   1200\u001b[0m     msg \u001b[39m=\u001b[39m \u001b[39m\"\u001b[39m\u001b[39mraw_input was called, but this frontend does not support input requests.\u001b[39m\u001b[39m\"\u001b[39m\n\u001b[1;32m   1201\u001b[0m     \u001b[39mraise\u001b[39;00m StdinNotImplementedError(msg)\n\u001b[0;32m-> 1202\u001b[0m \u001b[39mreturn\u001b[39;00m \u001b[39mself\u001b[39;49m\u001b[39m.\u001b[39;49m_input_request(\n\u001b[1;32m   1203\u001b[0m     \u001b[39mstr\u001b[39;49m(prompt),\n\u001b[1;32m   1204\u001b[0m     \u001b[39mself\u001b[39;49m\u001b[39m.\u001b[39;49m_parent_ident[\u001b[39m\"\u001b[39;49m\u001b[39mshell\u001b[39;49m\u001b[39m\"\u001b[39;49m],\n\u001b[1;32m   1205\u001b[0m     \u001b[39mself\u001b[39;49m\u001b[39m.\u001b[39;49mget_parent(\u001b[39m\"\u001b[39;49m\u001b[39mshell\u001b[39;49m\u001b[39m\"\u001b[39;49m),\n\u001b[1;32m   1206\u001b[0m     password\u001b[39m=\u001b[39;49m\u001b[39mFalse\u001b[39;49;00m,\n\u001b[1;32m   1207\u001b[0m )\n",
      "File \u001b[0;32m~/Desktop/mock_store_order_data/.venv/lib/python3.10/site-packages/ipykernel/kernelbase.py:1245\u001b[0m, in \u001b[0;36mKernel._input_request\u001b[0;34m(self, prompt, ident, parent, password)\u001b[0m\n\u001b[1;32m   1242\u001b[0m \u001b[39mexcept\u001b[39;00m \u001b[39mKeyboardInterrupt\u001b[39;00m:\n\u001b[1;32m   1243\u001b[0m     \u001b[39m# re-raise KeyboardInterrupt, to truncate traceback\u001b[39;00m\n\u001b[1;32m   1244\u001b[0m     msg \u001b[39m=\u001b[39m \u001b[39m\"\u001b[39m\u001b[39mInterrupted by user\u001b[39m\u001b[39m\"\u001b[39m\n\u001b[0;32m-> 1245\u001b[0m     \u001b[39mraise\u001b[39;00m \u001b[39mKeyboardInterrupt\u001b[39;00m(msg) \u001b[39mfrom\u001b[39;00m \u001b[39mNone\u001b[39;00m\n\u001b[1;32m   1246\u001b[0m \u001b[39mexcept\u001b[39;00m \u001b[39mException\u001b[39;00m:\n\u001b[1;32m   1247\u001b[0m     \u001b[39mself\u001b[39m\u001b[39m.\u001b[39mlog\u001b[39m.\u001b[39mwarning(\u001b[39m\"\u001b[39m\u001b[39mInvalid Message:\u001b[39m\u001b[39m\"\u001b[39m, exc_info\u001b[39m=\u001b[39m\u001b[39mTrue\u001b[39;00m)\n",
      "\u001b[0;31mKeyboardInterrupt\u001b[0m: Interrupted by user"
     ]
    }
   ],
   "source": [
    "import sqlite3\n",
    "import json\n",
    "import requests\n",
    "\n",
    "json_data = requests.get(\n",
    "    \"https://esa-storage-tokyo.s3-ap-northeast-1.amazonaws.com/uploads/production/attachments/19973/2023/10/09/137427/727ebb1e-b620-41c7-a3ca-79e61b4bbf4d.json\"\n",
    ").json()\n",
    "\n",
    "# Access the \"orderNums\" list from the JSON data\n",
    "order_nums = json_data.get(\"orderNums\", [])\n",
    "\n",
    "# Iterate through each order in the list\n",
    "for order in order_nums:\n",
    "    try:\n",
    "        if \"orderList\" in order:\n",
    "            order_list = order[\"orderList\"]\n",
    "            for order_id, order_info in order_list.items():\n",
    "                item = order_info.get(\"item\")\n",
    "                qty = order_info.get(\"qty\")\n",
    "                options = order_info.get(\"options\")\n",
    "                if order_info.get(\"options\"):\n",
    "                    print(\"ture\")\n",
    "                print(item, qty, options)\n",
    "                input()\n",
    "    except Exception as e:\n",
    "        print(\"faild to insert\")\n",
    "\n"
   ]
  }
 ],
 "metadata": {
  "kernelspec": {
   "display_name": ".venv",
   "language": "python",
   "name": "python3"
  },
  "language_info": {
   "codemirror_mode": {
    "name": "ipython",
    "version": 3
   },
   "file_extension": ".py",
   "mimetype": "text/x-python",
   "name": "python",
   "nbconvert_exporter": "python",
   "pygments_lexer": "ipython3",
   "version": "3.10.11"
  }
 },
 "nbformat": 4,
 "nbformat_minor": 2
}
